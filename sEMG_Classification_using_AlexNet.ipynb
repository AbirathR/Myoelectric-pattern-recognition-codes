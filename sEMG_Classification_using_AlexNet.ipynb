{
  "nbformat": 4,
  "nbformat_minor": 0,
  "metadata": {
    "colab": {
      "name": "sEMG Classification using AlexNet.ipynb",
      "provenance": [],
      "collapsed_sections": []
    },
    "kernelspec": {
      "display_name": "Python 3",
      "name": "python3"
    },
    "language_info": {
      "name": "python"
    },
    "accelerator": "GPU"
  },
  "cells": [
    {
      "cell_type": "code",
      "metadata": {
        "id": "UkdWseycsMws"
      },
      "source": [
        "import scipy.misc \n",
        "from scipy import io\n",
        "import pandas as pd\n",
        "from sklearn.model_selection import train_test_split\n",
        "  \n",
        "\n",
        "import tensorflow as tf\n",
        "from tensorflow import keras\n",
        "'''tf.config.experimental_run_functions_eagerly(True)'''\n",
        "\n",
        "\n",
        "\n",
        "import numpy as np\n",
        "from sklearn import preprocessing\n",
        "\n"
      ],
      "execution_count": 1,
      "outputs": []
    },
    {
      "cell_type": "code",
      "metadata": {
        "colab": {
          "base_uri": "https://localhost:8080/"
        },
        "id": "7eZsyv9dwa97",
        "outputId": "624efa8a-f0d0-4ef8-aead-b229be3bdb13"
      },
      "source": [
        "from google.colab import drive\n",
        "drive.mount('/content/drive')\n"
      ],
      "execution_count": 2,
      "outputs": [
        {
          "output_type": "stream",
          "name": "stdout",
          "text": [
            "Mounted at /content/drive\n"
          ]
        }
      ]
    },
    {
      "cell_type": "code",
      "metadata": {
        "id": "uWCkKbU_wm-V"
      },
      "source": [
        "S1=scipy.io.loadmat('/content/drive/MyDrive/Trains1.mat',squeeze_me=True);\n",
        "S2=scipy.io.loadmat('/content/drive/MyDrive/Trains2.mat',squeeze_me=True);\n",
        "S3=scipy.io.loadmat('/content/drive/MyDrive/Trains3.mat',squeeze_me=True);\n",
        "S4=scipy.io.loadmat('/content/drive/MyDrive/Trains4.mat',squeeze_me=True);\n",
        "S5=scipy.io.loadmat('/content/drive/MyDrive/Trains5.mat',squeeze_me=True);\n",
        "S6=scipy.io.loadmat('/content/drive/MyDrive/Trains6.mat',squeeze_me=True);\n",
        "S7=scipy.io.loadmat('/content/drive/MyDrive/Trains7.mat',squeeze_me=True);\n",
        "S8=scipy.io.loadmat('/content/drive/MyDrive/Trains8.mat',squeeze_me=True);\n",
        "S9=scipy.io.loadmat('/content/drive/MyDrive/Trains9.mat',squeeze_me=True);\n",
        "STest=scipy.io.loadmat('/content/drive/MyDrive/Test2.mat',squeeze_me=True);\n",
        "#STest=scipy.io.loadmat('/content/drive/MyDrive/Test1.mat',squeeze_me=True);\n"
      ],
      "execution_count": 3,
      "outputs": []
    },
    {
      "cell_type": "code",
      "metadata": {
        "colab": {
          "base_uri": "https://localhost:8080/"
        },
        "id": "fRHwLvAagycn",
        "outputId": "5a69bb31-4324-49a9-d3c8-47f1d3c66dbf"
      },
      "source": [
        "STest.keys()"
      ],
      "execution_count": 4,
      "outputs": [
        {
          "output_type": "execute_result",
          "data": {
            "text/plain": [
              "dict_keys(['__header__', '__version__', '__globals__', 'Test'])"
            ]
          },
          "metadata": {},
          "execution_count": 4
        }
      ]
    },
    {
      "cell_type": "code",
      "metadata": {
        "id": "oaITn7aIw1T5"
      },
      "source": [
        "train_array=[]\n",
        "for i in range(len(S1['T1']['data'])):\n",
        "  train_array.append(tf.convert_to_tensor(S1['T1']['data'][i]))\n"
      ],
      "execution_count": 5,
      "outputs": []
    },
    {
      "cell_type": "code",
      "metadata": {
        "id": "XBYCWXi1xu5T"
      },
      "source": [
        "train_array1=[]\n",
        "for i in range(len(S2['T2']['data'])):\n",
        "  train_array1.append(tf.convert_to_tensor(S2['T2']['data'][i]))"
      ],
      "execution_count": 6,
      "outputs": []
    },
    {
      "cell_type": "code",
      "metadata": {
        "id": "2kad1UJpJoAP"
      },
      "source": [
        "train_array2=[]\n",
        "for i in range(len(S3['T3']['data'])):\n",
        "  train_array2.append(tf.convert_to_tensor(S3['T3']['data'][i]))"
      ],
      "execution_count": 7,
      "outputs": []
    },
    {
      "cell_type": "code",
      "metadata": {
        "id": "jWca4ttrfb0u"
      },
      "source": [
        "train_array3=[]\n",
        "for i in range(len(S4['T4']['data'])):\n",
        "  train_array3.append(tf.convert_to_tensor(S4['T4']['data'][i]))"
      ],
      "execution_count": 8,
      "outputs": []
    },
    {
      "cell_type": "code",
      "metadata": {
        "id": "IAeGvtU5iTjK"
      },
      "source": [
        "train_array4=[]\n",
        "for i in range(len(S5['T5']['data'])):\n",
        "  train_array4.append(tf.convert_to_tensor(S5['T5']['data'][i]))"
      ],
      "execution_count": 9,
      "outputs": []
    },
    {
      "cell_type": "code",
      "metadata": {
        "id": "Ne51g2Kxnl_R"
      },
      "source": [
        "train_array5=[]\n",
        "for i in range(len(S6['T6']['data'])):\n",
        "  train_array5.append(tf.convert_to_tensor(S6['T6']['data'][i]))"
      ],
      "execution_count": 10,
      "outputs": []
    },
    {
      "cell_type": "code",
      "metadata": {
        "id": "vomWg7TMvOX-"
      },
      "source": [
        "train_array6=[]\n",
        "for i in range(len(S7['T7']['data'])):\n",
        "  train_array6.append(tf.convert_to_tensor(S7['T7']['data'][i]))"
      ],
      "execution_count": 11,
      "outputs": []
    },
    {
      "cell_type": "code",
      "metadata": {
        "id": "dMcg_MSE5pRS"
      },
      "source": [
        "train_array7=[]\n",
        "for i in range(len(S8['T8']['data'])):\n",
        "  train_array7.append(tf.convert_to_tensor(S8['T8']['data'][i]))"
      ],
      "execution_count": 12,
      "outputs": []
    },
    {
      "cell_type": "code",
      "metadata": {
        "id": "BOKpSCQnAkrq"
      },
      "source": [
        "train_array8=[]\n",
        "for i in range(len(S9['T9']['data'])):\n",
        "  train_array8.append(tf.convert_to_tensor(S9['T9']['data'][i]))"
      ],
      "execution_count": 13,
      "outputs": []
    },
    {
      "cell_type": "code",
      "metadata": {
        "id": "5A0obU1CyEd-"
      },
      "source": [
        "X_train=np.concatenate((train_array, train_array1,train_array2,train_array3,train_array4,train_array5,train_array6,train_array7,train_array8))"
      ],
      "execution_count": 14,
      "outputs": []
    },
    {
      "cell_type": "code",
      "metadata": {
        "colab": {
          "base_uri": "https://localhost:8080/"
        },
        "id": "62sAfaoWypPn",
        "outputId": "215c5576-2261-43ad-aa6f-1bf4780a02a2"
      },
      "source": [
        "X_train.shape"
      ],
      "execution_count": 15,
      "outputs": [
        {
          "output_type": "execute_result",
          "data": {
            "text/plain": [
              "(713, 8, 11000)"
            ]
          },
          "metadata": {},
          "execution_count": 15
        }
      ]
    },
    {
      "cell_type": "code",
      "metadata": {
        "id": "v7Dd2k-w1sMt"
      },
      "source": [
        "zippedList=  list(zip(S1['T1']['ExNo']))\n",
        "dfObj = pd.DataFrame(zippedList)\n",
        "y = dfObj.values\t"
      ],
      "execution_count": 16,
      "outputs": []
    },
    {
      "cell_type": "code",
      "metadata": {
        "id": "JQtQLMwf2MXc"
      },
      "source": [
        "zippedList1=  list(zip(S2['T2']['ExNo']))\n",
        "dfObj1 = pd.DataFrame(zippedList1)\n",
        "y1 = dfObj1.values\t"
      ],
      "execution_count": 17,
      "outputs": []
    },
    {
      "cell_type": "code",
      "metadata": {
        "id": "WNPlyowiKWcY"
      },
      "source": [
        "zippedList2=  list(zip(S3['T3']['ExNo']))\n",
        "dfObj2 = pd.DataFrame(zippedList2)\n",
        "y2 = dfObj2.values"
      ],
      "execution_count": 18,
      "outputs": []
    },
    {
      "cell_type": "code",
      "metadata": {
        "id": "dTowH91FfsmL"
      },
      "source": [
        "zippedList3=  list(zip(S4['T4']['ExNo']))\n",
        "dfObj3 = pd.DataFrame(zippedList3)\n",
        "y3 = dfObj3.values"
      ],
      "execution_count": 19,
      "outputs": []
    },
    {
      "cell_type": "code",
      "metadata": {
        "id": "fOC26S4MifBl"
      },
      "source": [
        "zippedList4=  list(zip(S5['T5']['ExNo']))\n",
        "dfObj4 = pd.DataFrame(zippedList4)\n",
        "y4 = dfObj4.values"
      ],
      "execution_count": 20,
      "outputs": []
    },
    {
      "cell_type": "code",
      "metadata": {
        "id": "Glr5V1ANnyJL"
      },
      "source": [
        "zippedList5=  list(zip(S6['T6']['ExNo']))\n",
        "dfObj5 = pd.DataFrame(zippedList5)\n",
        "y5 = dfObj5.values"
      ],
      "execution_count": 21,
      "outputs": []
    },
    {
      "cell_type": "code",
      "metadata": {
        "id": "-XvuS8y1vdxc"
      },
      "source": [
        "zippedList6=  list(zip(S7['T7']['ExNo']))\n",
        "dfObj6 = pd.DataFrame(zippedList6)\n",
        "y6 = dfObj6.values"
      ],
      "execution_count": 22,
      "outputs": []
    },
    {
      "cell_type": "code",
      "metadata": {
        "id": "YzDHtSMx5zzs"
      },
      "source": [
        "zippedList7=  list(zip(S8['T8']['ExNo']))\n",
        "dfObj7 = pd.DataFrame(zippedList7)\n",
        "y7 = dfObj7.values"
      ],
      "execution_count": 23,
      "outputs": []
    },
    {
      "cell_type": "code",
      "metadata": {
        "id": "l8zEyp8lAy6c"
      },
      "source": [
        "zippedList8=  list(zip(S9['T9']['ExNo']))\n",
        "dfObj8 = pd.DataFrame(zippedList8)\n",
        "y8 = dfObj8.values"
      ],
      "execution_count": 24,
      "outputs": []
    },
    {
      "cell_type": "code",
      "metadata": {
        "id": "rXhf2CMk2VWL"
      },
      "source": [
        "Y_train=np.concatenate((y,y1,y2,y3,y4,y5,y6,y7,y8))"
      ],
      "execution_count": 25,
      "outputs": []
    },
    {
      "cell_type": "code",
      "metadata": {
        "id": "ekVCWEN4zuBA"
      },
      "source": [
        "X_test=[]\n",
        "for i in range(len(STest['Test']['data'])):\n",
        "  X_test.append(tf.convert_to_tensor(STest['Test']['data'][i]))"
      ],
      "execution_count": 26,
      "outputs": []
    },
    {
      "cell_type": "code",
      "metadata": {
        "id": "7d6YWTQoRgwZ",
        "colab": {
          "base_uri": "https://localhost:8080/",
          "height": 35
        },
        "outputId": "1b88cf0d-2644-4322-e04a-23f106653589"
      },
      "source": [
        "'''X_test=[]\n",
        "for i in range(len(STest['Test1']['data'])):\n",
        "  X_test.append(tf.convert_to_tensor(STest['Test1']['data'][i]))'''"
      ],
      "execution_count": 27,
      "outputs": [
        {
          "output_type": "execute_result",
          "data": {
            "application/vnd.google.colaboratory.intrinsic+json": {
              "type": "string"
            },
            "text/plain": [
              "\"X_test=[]\\nfor i in range(len(STest['Test1']['data'])):\\n  X_test.append(tf.convert_to_tensor(STest['Test1']['data'][i]))\""
            ]
          },
          "metadata": {},
          "execution_count": 27
        }
      ]
    },
    {
      "cell_type": "code",
      "metadata": {
        "id": "q0cMFApl2lru"
      },
      "source": [
        "Y_test=np.array([[1,1,1,1,1,1,1,1,1,1,2,2,2,2,2,2,2,2,2,2,3,3,3,3,3,3,3,3,3,3,4,4,4,4,4,4,4,4,4,4,5,5,5,5,5,5,5,5,5,5,6,6,6,6,6,6,6,6,6,6,7,7,7,7,7,7,7,7,7,7,8,8,8,8,8,8,8,8,8,8,9,9,9,9,9,9,9,9,9,9]]).T\n",
        "#Y_test=np.array([[1,2,3,4,5,6,7,8,9]]).T"
      ],
      "execution_count": 28,
      "outputs": []
    },
    {
      "cell_type": "code",
      "metadata": {
        "colab": {
          "base_uri": "https://localhost:8080/"
        },
        "id": "hWj5r2kzv6jE",
        "outputId": "f891f459-01f3-451e-e743-0814938b379c"
      },
      "source": [
        "len(Y_test)"
      ],
      "execution_count": 29,
      "outputs": [
        {
          "output_type": "execute_result",
          "data": {
            "text/plain": [
              "90"
            ]
          },
          "metadata": {},
          "execution_count": 29
        }
      ]
    },
    {
      "cell_type": "code",
      "metadata": {
        "colab": {
          "base_uri": "https://localhost:8080/"
        },
        "id": "Jtt7UVhevv7C",
        "outputId": "74854aae-4462-4bb2-d844-da533f8359a1"
      },
      "source": [
        "len(Y_train)"
      ],
      "execution_count": 30,
      "outputs": [
        {
          "output_type": "execute_result",
          "data": {
            "text/plain": [
              "713"
            ]
          },
          "metadata": {},
          "execution_count": 30
        }
      ]
    },
    {
      "cell_type": "code",
      "metadata": {
        "id": "W98mJ4bE3Se2"
      },
      "source": [
        "enc = preprocessing.OneHotEncoder()\n",
        "\n",
        "# 2. FIT\n",
        "enc.fit(Y_train)\n",
        "enc.fit(Y_test)\n",
        "\n",
        "# 3. Transform\n",
        "Y_train = enc.transform(Y_train).toarray()\n",
        "Y_test = enc.transform(Y_test).toarray()"
      ],
      "execution_count": 31,
      "outputs": []
    },
    {
      "cell_type": "code",
      "metadata": {
        "colab": {
          "base_uri": "https://localhost:8080/"
        },
        "id": "k-CxrmuKDpgP",
        "outputId": "387e199a-ac34-487c-851a-e55732e98704"
      },
      "source": [
        "Y_test"
      ],
      "execution_count": 32,
      "outputs": [
        {
          "output_type": "execute_result",
          "data": {
            "text/plain": [
              "array([[1., 0., 0., 0., 0., 0., 0., 0., 0.],\n",
              "       [1., 0., 0., 0., 0., 0., 0., 0., 0.],\n",
              "       [1., 0., 0., 0., 0., 0., 0., 0., 0.],\n",
              "       [1., 0., 0., 0., 0., 0., 0., 0., 0.],\n",
              "       [1., 0., 0., 0., 0., 0., 0., 0., 0.],\n",
              "       [1., 0., 0., 0., 0., 0., 0., 0., 0.],\n",
              "       [1., 0., 0., 0., 0., 0., 0., 0., 0.],\n",
              "       [1., 0., 0., 0., 0., 0., 0., 0., 0.],\n",
              "       [1., 0., 0., 0., 0., 0., 0., 0., 0.],\n",
              "       [1., 0., 0., 0., 0., 0., 0., 0., 0.],\n",
              "       [0., 1., 0., 0., 0., 0., 0., 0., 0.],\n",
              "       [0., 1., 0., 0., 0., 0., 0., 0., 0.],\n",
              "       [0., 1., 0., 0., 0., 0., 0., 0., 0.],\n",
              "       [0., 1., 0., 0., 0., 0., 0., 0., 0.],\n",
              "       [0., 1., 0., 0., 0., 0., 0., 0., 0.],\n",
              "       [0., 1., 0., 0., 0., 0., 0., 0., 0.],\n",
              "       [0., 1., 0., 0., 0., 0., 0., 0., 0.],\n",
              "       [0., 1., 0., 0., 0., 0., 0., 0., 0.],\n",
              "       [0., 1., 0., 0., 0., 0., 0., 0., 0.],\n",
              "       [0., 1., 0., 0., 0., 0., 0., 0., 0.],\n",
              "       [0., 0., 1., 0., 0., 0., 0., 0., 0.],\n",
              "       [0., 0., 1., 0., 0., 0., 0., 0., 0.],\n",
              "       [0., 0., 1., 0., 0., 0., 0., 0., 0.],\n",
              "       [0., 0., 1., 0., 0., 0., 0., 0., 0.],\n",
              "       [0., 0., 1., 0., 0., 0., 0., 0., 0.],\n",
              "       [0., 0., 1., 0., 0., 0., 0., 0., 0.],\n",
              "       [0., 0., 1., 0., 0., 0., 0., 0., 0.],\n",
              "       [0., 0., 1., 0., 0., 0., 0., 0., 0.],\n",
              "       [0., 0., 1., 0., 0., 0., 0., 0., 0.],\n",
              "       [0., 0., 1., 0., 0., 0., 0., 0., 0.],\n",
              "       [0., 0., 0., 1., 0., 0., 0., 0., 0.],\n",
              "       [0., 0., 0., 1., 0., 0., 0., 0., 0.],\n",
              "       [0., 0., 0., 1., 0., 0., 0., 0., 0.],\n",
              "       [0., 0., 0., 1., 0., 0., 0., 0., 0.],\n",
              "       [0., 0., 0., 1., 0., 0., 0., 0., 0.],\n",
              "       [0., 0., 0., 1., 0., 0., 0., 0., 0.],\n",
              "       [0., 0., 0., 1., 0., 0., 0., 0., 0.],\n",
              "       [0., 0., 0., 1., 0., 0., 0., 0., 0.],\n",
              "       [0., 0., 0., 1., 0., 0., 0., 0., 0.],\n",
              "       [0., 0., 0., 1., 0., 0., 0., 0., 0.],\n",
              "       [0., 0., 0., 0., 1., 0., 0., 0., 0.],\n",
              "       [0., 0., 0., 0., 1., 0., 0., 0., 0.],\n",
              "       [0., 0., 0., 0., 1., 0., 0., 0., 0.],\n",
              "       [0., 0., 0., 0., 1., 0., 0., 0., 0.],\n",
              "       [0., 0., 0., 0., 1., 0., 0., 0., 0.],\n",
              "       [0., 0., 0., 0., 1., 0., 0., 0., 0.],\n",
              "       [0., 0., 0., 0., 1., 0., 0., 0., 0.],\n",
              "       [0., 0., 0., 0., 1., 0., 0., 0., 0.],\n",
              "       [0., 0., 0., 0., 1., 0., 0., 0., 0.],\n",
              "       [0., 0., 0., 0., 1., 0., 0., 0., 0.],\n",
              "       [0., 0., 0., 0., 0., 1., 0., 0., 0.],\n",
              "       [0., 0., 0., 0., 0., 1., 0., 0., 0.],\n",
              "       [0., 0., 0., 0., 0., 1., 0., 0., 0.],\n",
              "       [0., 0., 0., 0., 0., 1., 0., 0., 0.],\n",
              "       [0., 0., 0., 0., 0., 1., 0., 0., 0.],\n",
              "       [0., 0., 0., 0., 0., 1., 0., 0., 0.],\n",
              "       [0., 0., 0., 0., 0., 1., 0., 0., 0.],\n",
              "       [0., 0., 0., 0., 0., 1., 0., 0., 0.],\n",
              "       [0., 0., 0., 0., 0., 1., 0., 0., 0.],\n",
              "       [0., 0., 0., 0., 0., 1., 0., 0., 0.],\n",
              "       [0., 0., 0., 0., 0., 0., 1., 0., 0.],\n",
              "       [0., 0., 0., 0., 0., 0., 1., 0., 0.],\n",
              "       [0., 0., 0., 0., 0., 0., 1., 0., 0.],\n",
              "       [0., 0., 0., 0., 0., 0., 1., 0., 0.],\n",
              "       [0., 0., 0., 0., 0., 0., 1., 0., 0.],\n",
              "       [0., 0., 0., 0., 0., 0., 1., 0., 0.],\n",
              "       [0., 0., 0., 0., 0., 0., 1., 0., 0.],\n",
              "       [0., 0., 0., 0., 0., 0., 1., 0., 0.],\n",
              "       [0., 0., 0., 0., 0., 0., 1., 0., 0.],\n",
              "       [0., 0., 0., 0., 0., 0., 1., 0., 0.],\n",
              "       [0., 0., 0., 0., 0., 0., 0., 1., 0.],\n",
              "       [0., 0., 0., 0., 0., 0., 0., 1., 0.],\n",
              "       [0., 0., 0., 0., 0., 0., 0., 1., 0.],\n",
              "       [0., 0., 0., 0., 0., 0., 0., 1., 0.],\n",
              "       [0., 0., 0., 0., 0., 0., 0., 1., 0.],\n",
              "       [0., 0., 0., 0., 0., 0., 0., 1., 0.],\n",
              "       [0., 0., 0., 0., 0., 0., 0., 1., 0.],\n",
              "       [0., 0., 0., 0., 0., 0., 0., 1., 0.],\n",
              "       [0., 0., 0., 0., 0., 0., 0., 1., 0.],\n",
              "       [0., 0., 0., 0., 0., 0., 0., 1., 0.],\n",
              "       [0., 0., 0., 0., 0., 0., 0., 0., 1.],\n",
              "       [0., 0., 0., 0., 0., 0., 0., 0., 1.],\n",
              "       [0., 0., 0., 0., 0., 0., 0., 0., 1.],\n",
              "       [0., 0., 0., 0., 0., 0., 0., 0., 1.],\n",
              "       [0., 0., 0., 0., 0., 0., 0., 0., 1.],\n",
              "       [0., 0., 0., 0., 0., 0., 0., 0., 1.],\n",
              "       [0., 0., 0., 0., 0., 0., 0., 0., 1.],\n",
              "       [0., 0., 0., 0., 0., 0., 0., 0., 1.],\n",
              "       [0., 0., 0., 0., 0., 0., 0., 0., 1.],\n",
              "       [0., 0., 0., 0., 0., 0., 0., 0., 1.]])"
            ]
          },
          "metadata": {},
          "execution_count": 32
        }
      ]
    },
    {
      "cell_type": "code",
      "metadata": {
        "colab": {
          "base_uri": "https://localhost:8080/"
        },
        "id": "zju9m3ZWwBGj",
        "outputId": "50ec2794-5078-4b24-c908-0c8606a386f4"
      },
      "source": [
        "X_train.shape\n",
        "np.array(X_test).shape"
      ],
      "execution_count": 33,
      "outputs": [
        {
          "output_type": "execute_result",
          "data": {
            "text/plain": [
              "(90, 8, 11000)"
            ]
          },
          "metadata": {},
          "execution_count": 33
        }
      ]
    },
    {
      "cell_type": "code",
      "metadata": {
        "id": "eLH0AZmXBg0n"
      },
      "source": [
        "X_train=np.reshape(np.array(X_train),(-1,8,11000,1))\n",
        "X_test=np.reshape(np.array(X_test),(-1,8,11000,1))"
      ],
      "execution_count": 34,
      "outputs": []
    },
    {
      "cell_type": "code",
      "metadata": {
        "id": "qGgm_tRztcFs",
        "colab": {
          "base_uri": "https://localhost:8080/",
          "height": 35
        },
        "outputId": "506588ba-8f2d-4712-a4e4-c20e3a04d0ef"
      },
      "source": [
        "'''X_train=np.squeeze(X_train)\n",
        "X_test=np.squeeze(X_test)'''"
      ],
      "execution_count": 35,
      "outputs": [
        {
          "output_type": "execute_result",
          "data": {
            "application/vnd.google.colaboratory.intrinsic+json": {
              "type": "string"
            },
            "text/plain": [
              "'X_train=np.squeeze(X_train)\\nX_test=np.squeeze(X_test)'"
            ]
          },
          "metadata": {},
          "execution_count": 35
        }
      ]
    },
    {
      "cell_type": "code",
      "metadata": {
        "colab": {
          "base_uri": "https://localhost:8080/",
          "height": 35
        },
        "id": "IHk_H2Eat_c9",
        "outputId": "abaeb2f0-1cab-4811-e321-3efcc0f6bcc0"
      },
      "source": [
        "'''X_train[0]'''"
      ],
      "execution_count": 36,
      "outputs": [
        {
          "output_type": "execute_result",
          "data": {
            "application/vnd.google.colaboratory.intrinsic+json": {
              "type": "string"
            },
            "text/plain": [
              "'X_train[0]'"
            ]
          },
          "metadata": {},
          "execution_count": 36
        }
      ]
    },
    {
      "cell_type": "code",
      "metadata": {
        "colab": {
          "base_uri": "https://localhost:8080/"
        },
        "id": "pdtic-VGyRW7",
        "outputId": "96288175-e5e1-4858-da93-7618214137d9"
      },
      "source": [
        "X_test.shape"
      ],
      "execution_count": 37,
      "outputs": [
        {
          "output_type": "execute_result",
          "data": {
            "text/plain": [
              "(90, 8, 11000, 1)"
            ]
          },
          "metadata": {},
          "execution_count": 37
        }
      ]
    },
    {
      "cell_type": "code",
      "metadata": {
        "id": "OdZ8Xs1tfBS1",
        "colab": {
          "base_uri": "https://localhost:8080/",
          "height": 53
        },
        "outputId": "b8868f1c-7e35-48d6-bffa-283fc9d5707c"
      },
      "source": [
        "'''from sklearn.preprocessing import MinMaxScaler\n",
        "normalized=[]\n",
        "normalized1=[]\n",
        "i=0\n",
        "scaler = MinMaxScaler(feature_range=(-1,1))\n",
        "for i in range(713):\n",
        "  scaler.fit(X_train[i])\n",
        "  normalized.append(scaler.transform(X_train[i]))'''\n",
        "  \n",
        "\n"
      ],
      "execution_count": 38,
      "outputs": [
        {
          "output_type": "execute_result",
          "data": {
            "application/vnd.google.colaboratory.intrinsic+json": {
              "type": "string"
            },
            "text/plain": [
              "'from sklearn.preprocessing import MinMaxScaler\\nnormalized=[]\\nnormalized1=[]\\ni=0\\nscaler = MinMaxScaler(feature_range=(-1,1))\\nfor i in range(713):\\n  scaler.fit(X_train[i])\\n  normalized.append(scaler.transform(X_train[i]))'"
            ]
          },
          "metadata": {},
          "execution_count": 38
        }
      ]
    },
    {
      "cell_type": "code",
      "metadata": {
        "id": "tcQjxJ7fwHrb",
        "colab": {
          "base_uri": "https://localhost:8080/",
          "height": 53
        },
        "outputId": "7a34c9a9-4afd-4e64-f2ce-fb0a58ffc94e"
      },
      "source": [
        "'''j=0\n",
        "scaler = MinMaxScaler(feature_range=(-1,1))\n",
        "for j in range(9):\n",
        "  scaler.fit(X_test[j])\n",
        "  normalized1.append(scaler.transform(X_test[j]))'''"
      ],
      "execution_count": 39,
      "outputs": [
        {
          "output_type": "execute_result",
          "data": {
            "application/vnd.google.colaboratory.intrinsic+json": {
              "type": "string"
            },
            "text/plain": [
              "'j=0\\nscaler = MinMaxScaler(feature_range=(-1,1))\\nfor j in range(9):\\n  scaler.fit(X_test[j])\\n  normalized1.append(scaler.transform(X_test[j]))'"
            ]
          },
          "metadata": {},
          "execution_count": 39
        }
      ]
    },
    {
      "cell_type": "code",
      "metadata": {
        "id": "_tpTdNkJurxC",
        "colab": {
          "base_uri": "https://localhost:8080/",
          "height": 53
        },
        "outputId": "8f912ef8-1c45-4d44-bbd2-a35ce174927e"
      },
      "source": [
        "'''normalized=np.array(normalized)\n",
        "normalized1=np.array(normalized1)\n",
        "normalized=normalized[:,:,:, np.newaxis]\n",
        "normalized1=normalized1[:,:,:, np.newaxis]'''\n"
      ],
      "execution_count": 40,
      "outputs": [
        {
          "output_type": "execute_result",
          "data": {
            "application/vnd.google.colaboratory.intrinsic+json": {
              "type": "string"
            },
            "text/plain": [
              "'normalized=np.array(normalized)\\nnormalized1=np.array(normalized1)\\nnormalized=normalized[:,:,:, np.newaxis]\\nnormalized1=normalized1[:,:,:, np.newaxis]'"
            ]
          },
          "metadata": {},
          "execution_count": 40
        }
      ]
    },
    {
      "cell_type": "code",
      "metadata": {
        "id": "qkeITZBzBtDZ"
      },
      "source": [
        "from keras.models import Sequential\n",
        "from keras.regularizers import l2\n",
        "from keras.layers import Dense, Conv2D, Flatten,BatchNormalization\n",
        "model = keras.models.Sequential([\n",
        "    keras.layers.Conv2D(filters=256, kernel_size=(2,2),kernel_regularizer=l2(0.00005), bias_regularizer=l2(0.001),  activation='relu',kernel_initializer='he_uniform', input_shape=(8,11000,1)),\n",
        "    keras.layers.BatchNormalization(),\n",
        "    keras.layers.MaxPool2D(pool_size=(3,3),padding=\"same\",data_format='channels_last'),\n",
        "    keras.layers.Conv2D(filters=128, kernel_size=(3,3),kernel_regularizer=l2(0.00005), bias_regularizer=l2(0.001),activation='relu',kernel_initializer='he_uniform', padding=\"same\"),\n",
        "    keras.layers.BatchNormalization(),\n",
        "    keras.layers.MaxPool2D(pool_size=(3,3), padding=\"same\",data_format='channels_last'),\n",
        "    keras.layers.Conv2D(filters=256, kernel_size=(3,3),kernel_regularizer=l2(0.00005), bias_regularizer=l2(0.001),activation='relu',kernel_initializer='he_uniform',padding=\"same\"),\n",
        "    keras.layers.BatchNormalization(),\n",
        "    keras.layers.MaxPool2D(pool_size=(3,3), padding=\"same\",data_format='channels_last'),\n",
        "    keras.layers.Conv2D(filters=128, kernel_size=(3,3),kernel_regularizer=l2(0.00005), bias_regularizer=l2(0.001),activation='relu',kernel_initializer='he_uniform', padding=\"same\"),\n",
        "    keras.layers.BatchNormalization(),\n",
        "    keras.layers.MaxPool2D(pool_size=(3,3),padding=\"same\",data_format='channels_last'),\n",
        "    keras.layers.Conv2D(filters=256, kernel_size=(2,2),kernel_regularizer=l2(0.00005), bias_regularizer=l2(0.001),  activation='relu',kernel_initializer='he_uniform',padding=\"same\"),\n",
        "    keras.layers.BatchNormalization(),\n",
        "    keras.layers.MaxPool2D(pool_size=(3,3),padding=\"same\",data_format='channels_last'),\n",
        "    keras.layers.Conv2D(filters=128, kernel_size=(3,3),kernel_regularizer=l2(0.00005), bias_regularizer=l2(0.001),activation='relu',kernel_initializer='he_uniform', padding=\"same\"),\n",
        "    keras.layers.BatchNormalization(),\n",
        "    keras.layers.AvgPool2D(pool_size=(3,3),padding=\"same\",data_format='channels_last'),\n",
        "    keras.layers.Flatten(),\n",
        "    keras.layers.Dense(100, activation='relu'),\n",
        "    keras.layers.Dense(9, activation='softmax')\n",
        "])"
      ],
      "execution_count": 41,
      "outputs": []
    },
    {
      "cell_type": "code",
      "metadata": {
        "id": "-WtDIc01-1qt"
      },
      "source": [
        "optimizer = keras.optimizers.Adam(learning_rate=0.000001)\n"
      ],
      "execution_count": 42,
      "outputs": []
    },
    {
      "cell_type": "code",
      "metadata": {
        "id": "_rSdRqIGB15D"
      },
      "source": [
        "model.compile(optimizer=optimizer, loss='categorical_crossentropy', metrics=['accuracy'])"
      ],
      "execution_count": 43,
      "outputs": []
    },
    {
      "cell_type": "code",
      "metadata": {
        "colab": {
          "base_uri": "https://localhost:8080/"
        },
        "id": "0lgEvVrCB4yG",
        "outputId": "e9819950-cc62-441f-9ccf-4f2b921c041f"
      },
      "source": [
        "model.fit(X_train, Y_train,batch_size=10, validation_data=(X_test, Y_test), epochs=50,shuffle=False)\n",
        "model.summary()\n"
      ],
      "execution_count": 49,
      "outputs": [
        {
          "output_type": "stream",
          "name": "stdout",
          "text": [
            "Epoch 1/50\n",
            "72/72 [==============================] - 23s 324ms/step - loss: 0.8568 - accuracy: 0.9635 - val_loss: 2.9998 - val_accuracy: 0.2333\n",
            "Epoch 2/50\n",
            "72/72 [==============================] - 23s 320ms/step - loss: 0.8492 - accuracy: 0.9635 - val_loss: 3.0068 - val_accuracy: 0.2333\n",
            "Epoch 3/50\n",
            "72/72 [==============================] - 23s 323ms/step - loss: 0.8406 - accuracy: 0.9649 - val_loss: 3.0079 - val_accuracy: 0.2222\n",
            "Epoch 4/50\n",
            "72/72 [==============================] - 23s 323ms/step - loss: 0.8312 - accuracy: 0.9663 - val_loss: 2.9981 - val_accuracy: 0.2444\n",
            "Epoch 5/50\n",
            "72/72 [==============================] - 23s 320ms/step - loss: 0.8248 - accuracy: 0.9663 - val_loss: 2.9959 - val_accuracy: 0.2444\n",
            "Epoch 6/50\n",
            "72/72 [==============================] - 23s 324ms/step - loss: 0.8170 - accuracy: 0.9677 - val_loss: 2.9906 - val_accuracy: 0.2333\n",
            "Epoch 7/50\n",
            "72/72 [==============================] - 23s 319ms/step - loss: 0.8086 - accuracy: 0.9705 - val_loss: 2.9962 - val_accuracy: 0.2333\n",
            "Epoch 8/50\n",
            "72/72 [==============================] - 23s 319ms/step - loss: 0.8016 - accuracy: 0.9734 - val_loss: 2.9963 - val_accuracy: 0.2444\n",
            "Epoch 9/50\n",
            "72/72 [==============================] - 23s 324ms/step - loss: 0.7932 - accuracy: 0.9719 - val_loss: 2.9914 - val_accuracy: 0.2333\n",
            "Epoch 10/50\n",
            "72/72 [==============================] - 23s 320ms/step - loss: 0.7877 - accuracy: 0.9748 - val_loss: 2.9873 - val_accuracy: 0.2444\n",
            "Epoch 11/50\n",
            "72/72 [==============================] - 23s 323ms/step - loss: 0.7797 - accuracy: 0.9762 - val_loss: 2.9852 - val_accuracy: 0.2444\n",
            "Epoch 12/50\n",
            "72/72 [==============================] - 23s 319ms/step - loss: 0.7724 - accuracy: 0.9762 - val_loss: 2.9836 - val_accuracy: 0.2333\n",
            "Epoch 13/50\n",
            "72/72 [==============================] - 23s 320ms/step - loss: 0.7653 - accuracy: 0.9832 - val_loss: 2.9684 - val_accuracy: 0.2444\n",
            "Epoch 14/50\n",
            "72/72 [==============================] - 23s 323ms/step - loss: 0.7578 - accuracy: 0.9818 - val_loss: 2.9577 - val_accuracy: 0.2444\n",
            "Epoch 15/50\n",
            "72/72 [==============================] - 23s 319ms/step - loss: 0.7524 - accuracy: 0.9818 - val_loss: 2.9638 - val_accuracy: 0.2444\n",
            "Epoch 16/50\n",
            "72/72 [==============================] - 23s 319ms/step - loss: 0.7457 - accuracy: 0.9860 - val_loss: 2.9490 - val_accuracy: 0.2333\n",
            "Epoch 17/50\n",
            "72/72 [==============================] - 23s 323ms/step - loss: 0.7375 - accuracy: 0.9888 - val_loss: 2.9612 - val_accuracy: 0.2333\n",
            "Epoch 18/50\n",
            "72/72 [==============================] - 23s 319ms/step - loss: 0.7292 - accuracy: 0.9888 - val_loss: 2.9515 - val_accuracy: 0.2444\n",
            "Epoch 19/50\n",
            "72/72 [==============================] - 23s 323ms/step - loss: 0.7227 - accuracy: 0.9916 - val_loss: 2.9528 - val_accuracy: 0.2444\n",
            "Epoch 20/50\n",
            "72/72 [==============================] - 23s 320ms/step - loss: 0.7160 - accuracy: 0.9902 - val_loss: 2.9522 - val_accuracy: 0.2444\n",
            "Epoch 21/50\n",
            "72/72 [==============================] - 23s 323ms/step - loss: 0.7097 - accuracy: 0.9916 - val_loss: 2.9482 - val_accuracy: 0.2444\n",
            "Epoch 22/50\n",
            "72/72 [==============================] - 23s 323ms/step - loss: 0.7039 - accuracy: 0.9930 - val_loss: 2.9353 - val_accuracy: 0.2444\n",
            "Epoch 23/50\n",
            "72/72 [==============================] - 23s 320ms/step - loss: 0.6974 - accuracy: 0.9930 - val_loss: 2.9341 - val_accuracy: 0.2444\n",
            "Epoch 24/50\n",
            "72/72 [==============================] - 23s 320ms/step - loss: 0.6909 - accuracy: 0.9930 - val_loss: 2.9389 - val_accuracy: 0.2333\n",
            "Epoch 25/50\n",
            "72/72 [==============================] - 23s 320ms/step - loss: 0.6844 - accuracy: 0.9930 - val_loss: 2.9453 - val_accuracy: 0.2444\n",
            "Epoch 26/50\n",
            "72/72 [==============================] - 23s 323ms/step - loss: 0.6774 - accuracy: 0.9944 - val_loss: 2.9538 - val_accuracy: 0.2556\n",
            "Epoch 27/50\n",
            "72/72 [==============================] - 23s 319ms/step - loss: 0.6711 - accuracy: 0.9944 - val_loss: 2.9294 - val_accuracy: 0.2556\n",
            "Epoch 28/50\n",
            "72/72 [==============================] - 23s 319ms/step - loss: 0.6654 - accuracy: 0.9958 - val_loss: 2.9462 - val_accuracy: 0.2556\n",
            "Epoch 29/50\n",
            "72/72 [==============================] - 23s 323ms/step - loss: 0.6584 - accuracy: 0.9958 - val_loss: 2.9473 - val_accuracy: 0.2333\n",
            "Epoch 30/50\n",
            "72/72 [==============================] - 23s 319ms/step - loss: 0.6540 - accuracy: 0.9958 - val_loss: 2.9358 - val_accuracy: 0.2444\n",
            "Epoch 31/50\n",
            "72/72 [==============================] - 23s 320ms/step - loss: 0.6471 - accuracy: 0.9958 - val_loss: 2.9334 - val_accuracy: 0.2556\n",
            "Epoch 32/50\n",
            "72/72 [==============================] - 23s 320ms/step - loss: 0.6413 - accuracy: 0.9958 - val_loss: 2.9380 - val_accuracy: 0.2444\n",
            "Epoch 33/50\n",
            "72/72 [==============================] - 23s 323ms/step - loss: 0.6356 - accuracy: 0.9958 - val_loss: 2.9416 - val_accuracy: 0.2444\n",
            "Epoch 34/50\n",
            "72/72 [==============================] - 23s 324ms/step - loss: 0.6304 - accuracy: 0.9958 - val_loss: 2.9473 - val_accuracy: 0.2556\n",
            "Epoch 35/50\n",
            "72/72 [==============================] - 23s 320ms/step - loss: 0.6241 - accuracy: 0.9958 - val_loss: 2.9359 - val_accuracy: 0.2556\n",
            "Epoch 36/50\n",
            "72/72 [==============================] - 23s 323ms/step - loss: 0.6186 - accuracy: 0.9958 - val_loss: 2.9395 - val_accuracy: 0.2556\n",
            "Epoch 37/50\n",
            "72/72 [==============================] - 23s 323ms/step - loss: 0.6120 - accuracy: 0.9958 - val_loss: 2.9505 - val_accuracy: 0.2556\n",
            "Epoch 38/50\n",
            "72/72 [==============================] - 23s 323ms/step - loss: 0.6062 - accuracy: 0.9958 - val_loss: 2.9326 - val_accuracy: 0.2556\n",
            "Epoch 39/50\n",
            "72/72 [==============================] - 23s 320ms/step - loss: 0.6015 - accuracy: 0.9958 - val_loss: 2.9275 - val_accuracy: 0.2556\n",
            "Epoch 40/50\n",
            "72/72 [==============================] - 23s 323ms/step - loss: 0.5954 - accuracy: 0.9958 - val_loss: 2.9353 - val_accuracy: 0.2667\n",
            "Epoch 41/50\n",
            "72/72 [==============================] - 23s 320ms/step - loss: 0.5895 - accuracy: 0.9958 - val_loss: 2.9364 - val_accuracy: 0.2667\n",
            "Epoch 42/50\n",
            "72/72 [==============================] - 23s 319ms/step - loss: 0.5839 - accuracy: 0.9958 - val_loss: 2.9149 - val_accuracy: 0.2778\n",
            "Epoch 43/50\n",
            "72/72 [==============================] - 23s 323ms/step - loss: 0.5791 - accuracy: 0.9972 - val_loss: 2.9280 - val_accuracy: 0.2667\n",
            "Epoch 44/50\n",
            "72/72 [==============================] - 23s 324ms/step - loss: 0.5729 - accuracy: 0.9972 - val_loss: 2.9228 - val_accuracy: 0.2667\n",
            "Epoch 45/50\n",
            "72/72 [==============================] - 23s 320ms/step - loss: 0.5683 - accuracy: 0.9986 - val_loss: 2.9418 - val_accuracy: 0.2667\n",
            "Epoch 46/50\n",
            "72/72 [==============================] - 23s 320ms/step - loss: 0.5635 - accuracy: 0.9972 - val_loss: 2.9272 - val_accuracy: 0.2778\n",
            "Epoch 47/50\n",
            "72/72 [==============================] - 23s 320ms/step - loss: 0.5581 - accuracy: 0.9972 - val_loss: 2.9315 - val_accuracy: 0.2667\n",
            "Epoch 48/50\n",
            "72/72 [==============================] - 23s 320ms/step - loss: 0.5536 - accuracy: 0.9986 - val_loss: 2.9358 - val_accuracy: 0.2667\n",
            "Epoch 49/50\n",
            "72/72 [==============================] - 23s 320ms/step - loss: 0.5490 - accuracy: 0.9986 - val_loss: 2.9295 - val_accuracy: 0.2778\n",
            "Epoch 50/50\n",
            "72/72 [==============================] - 23s 320ms/step - loss: 0.5424 - accuracy: 0.9986 - val_loss: 2.9226 - val_accuracy: 0.2667\n",
            "Model: \"sequential\"\n",
            "_________________________________________________________________\n",
            " Layer (type)                Output Shape              Param #   \n",
            "=================================================================\n",
            " conv2d (Conv2D)             (None, 7, 10999, 256)     1280      \n",
            "                                                                 \n",
            " batch_normalization (BatchN  (None, 7, 10999, 256)    1024      \n",
            " ormalization)                                                   \n",
            "                                                                 \n",
            " max_pooling2d (MaxPooling2D  (None, 3, 3667, 256)     0         \n",
            " )                                                               \n",
            "                                                                 \n",
            " conv2d_1 (Conv2D)           (None, 3, 3667, 128)      295040    \n",
            "                                                                 \n",
            " batch_normalization_1 (Batc  (None, 3, 3667, 128)     512       \n",
            " hNormalization)                                                 \n",
            "                                                                 \n",
            " max_pooling2d_1 (MaxPooling  (None, 1, 1223, 128)     0         \n",
            " 2D)                                                             \n",
            "                                                                 \n",
            " conv2d_2 (Conv2D)           (None, 1, 1223, 256)      295168    \n",
            "                                                                 \n",
            " batch_normalization_2 (Batc  (None, 1, 1223, 256)     1024      \n",
            " hNormalization)                                                 \n",
            "                                                                 \n",
            " max_pooling2d_2 (MaxPooling  (None, 1, 408, 256)      0         \n",
            " 2D)                                                             \n",
            "                                                                 \n",
            " conv2d_3 (Conv2D)           (None, 1, 408, 128)       295040    \n",
            "                                                                 \n",
            " batch_normalization_3 (Batc  (None, 1, 408, 128)      512       \n",
            " hNormalization)                                                 \n",
            "                                                                 \n",
            " max_pooling2d_3 (MaxPooling  (None, 1, 136, 128)      0         \n",
            " 2D)                                                             \n",
            "                                                                 \n",
            " conv2d_4 (Conv2D)           (None, 1, 136, 256)       131328    \n",
            "                                                                 \n",
            " batch_normalization_4 (Batc  (None, 1, 136, 256)      1024      \n",
            " hNormalization)                                                 \n",
            "                                                                 \n",
            " max_pooling2d_4 (MaxPooling  (None, 1, 46, 256)       0         \n",
            " 2D)                                                             \n",
            "                                                                 \n",
            " conv2d_5 (Conv2D)           (None, 1, 46, 128)        295040    \n",
            "                                                                 \n",
            " batch_normalization_5 (Batc  (None, 1, 46, 128)       512       \n",
            " hNormalization)                                                 \n",
            "                                                                 \n",
            " average_pooling2d (AverageP  (None, 1, 16, 128)       0         \n",
            " ooling2D)                                                       \n",
            "                                                                 \n",
            " flatten (Flatten)           (None, 2048)              0         \n",
            "                                                                 \n",
            " dense (Dense)               (None, 100)               204900    \n",
            "                                                                 \n",
            " dense_1 (Dense)             (None, 9)                 909       \n",
            "                                                                 \n",
            "=================================================================\n",
            "Total params: 1,523,313\n",
            "Trainable params: 1,521,009\n",
            "Non-trainable params: 2,304\n",
            "_________________________________________________________________\n"
          ]
        }
      ]
    },
    {
      "cell_type": "code",
      "metadata": {
        "id": "Di4D6j40QzmW"
      },
      "source": [
        "predicted_classes = model.predict(X_test)\n",
        "predicted_classes = np.argmax(np.round(predicted_classes),axis=1)"
      ],
      "execution_count": null,
      "outputs": []
    },
    {
      "cell_type": "code",
      "metadata": {
        "id": "fV_fPeECRjuS"
      },
      "source": [
        "\n",
        "rounded_labels=np.argmax(Y_test, axis=1)"
      ],
      "execution_count": null,
      "outputs": []
    },
    {
      "cell_type": "code",
      "metadata": {
        "colab": {
          "base_uri": "https://localhost:8080/"
        },
        "id": "U-ak9eTbQ6gd",
        "outputId": "071475d4-39ad-4696-c009-9f2954654c73"
      },
      "source": [
        "predicted_classes.shape"
      ],
      "execution_count": null,
      "outputs": [
        {
          "output_type": "execute_result",
          "data": {
            "text/plain": [
              "(90,)"
            ]
          },
          "metadata": {},
          "execution_count": 43
        }
      ]
    },
    {
      "cell_type": "code",
      "metadata": {
        "id": "jwixURZ-FyfE",
        "colab": {
          "base_uri": "https://localhost:8080/"
        },
        "outputId": "4390f697-7e89-4e59-d2e2-b91a76ba0d66"
      },
      "source": [
        "from sklearn.metrics import classification_report\n",
        "target_names = [\"Class {}\".format(i) for i in range(9)]\n",
        "print(classification_report(rounded_labels, predicted_classes, target_names=target_names))"
      ],
      "execution_count": null,
      "outputs": [
        {
          "output_type": "stream",
          "name": "stdout",
          "text": [
            "              precision    recall  f1-score   support\n",
            "\n",
            "     Class 0       0.06      0.10      0.08        10\n",
            "     Class 1       0.00      0.00      0.00        10\n",
            "     Class 2       0.00      0.00      0.00        10\n",
            "     Class 3       0.33      0.70      0.45        10\n",
            "     Class 4       0.25      0.10      0.14        10\n",
            "     Class 5       0.57      0.40      0.47        10\n",
            "     Class 6       1.00      0.60      0.75        10\n",
            "     Class 7       0.50      0.60      0.55        10\n",
            "     Class 8       0.00      0.00      0.00        10\n",
            "\n",
            "    accuracy                           0.28        90\n",
            "   macro avg       0.30      0.28      0.27        90\n",
            "weighted avg       0.30      0.28      0.27        90\n",
            "\n"
          ]
        },
        {
          "output_type": "stream",
          "name": "stderr",
          "text": [
            "/usr/local/lib/python3.7/dist-packages/sklearn/metrics/_classification.py:1272: UndefinedMetricWarning: Precision and F-score are ill-defined and being set to 0.0 in labels with no predicted samples. Use `zero_division` parameter to control this behavior.\n",
            "  _warn_prf(average, modifier, msg_start, len(result))\n"
          ]
        }
      ]
    },
    {
      "cell_type": "code",
      "metadata": {
        "id": "m7rjinu6K6UA"
      },
      "source": [
        ""
      ],
      "execution_count": null,
      "outputs": []
    }
  ]
}